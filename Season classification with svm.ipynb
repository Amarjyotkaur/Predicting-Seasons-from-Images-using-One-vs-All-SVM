{
 "cells": [
  {
   "cell_type": "code",
   "execution_count": 99,
   "metadata": {},
   "outputs": [
    {
     "data": {
      "text/plain": [
       "array([[2.85894173e-04, 1.98804028e-03, 5.69648715e-03, ...,\n",
       "        2.30420041e+00, 9.83931184e-01, 6.21629775e-01],\n",
       "       [6.01924141e-04, 2.61862390e-03, 5.68724005e-03, ...,\n",
       "        4.22038889e+00, 4.17916626e-01, 5.03537536e-01],\n",
       "       [8.23444789e-05, 2.92165321e-03, 6.07451773e-04, ...,\n",
       "        5.03101826e+00, 4.25206125e-01, 6.29386723e-01],\n",
       "       ...,\n",
       "       [2.78457097e-04, 1.66442711e-03, 1.19725580e-03, ...,\n",
       "        3.54340959e+00, 1.42527804e-01, 0.00000000e+00],\n",
       "       [5.09396486e-04, 9.15303186e-04, 2.50728312e-03, ...,\n",
       "        3.51380482e-02, 2.20638084e+00, 1.24721445e-01],\n",
       "       [1.38230200e-04, 1.63948571e-03, 5.90395555e-03, ...,\n",
       "        4.26530391e-01, 8.05069447e-01, 2.67462349e+00]], dtype=float32)"
      ]
     },
     "execution_count": 99,
     "metadata": {},
     "output_type": "execute_result"
    }
   ],
   "source": [
    "import numpy as np\n",
    "import os\n",
    "path = '/Users/amarjyotkaur/Downloads/imagefeatures 2'\n",
    "X=[]\n",
    "for files in os.listdir(path):\n",
    "    #print(files)\n",
    "    file_path=path+'/'+files\n",
    "    #print(file_path)\n",
    "    X.append(np.load(file_path))\n",
    "X=np.array(X)\n",
    "X\n",
    "\n"
   ]
  },
  {
   "cell_type": "code",
   "execution_count": 100,
   "metadata": {},
   "outputs": [
    {
     "data": {
      "text/plain": [
       "8000"
      ]
     },
     "execution_count": 100,
     "metadata": {},
     "output_type": "execute_result"
    }
   ],
   "source": [
    "len(X)"
   ]
  },
  {
   "cell_type": "code",
   "execution_count": 101,
   "metadata": {},
   "outputs": [
    {
     "data": {
      "text/plain": [
       "array([['0', '0', '0', ..., '0', '0', '1'],\n",
       "       ['0', '0', '0', ..., '0', '1', '0'],\n",
       "       ['0', '0', '0', ..., '1', '1', '1'],\n",
       "       ...,\n",
       "       ['0', '0', '0', ..., '0', '0', '0'],\n",
       "       ['0', '0', '0', ..., '0', '1', '0'],\n",
       "       ['0', '0', '0', ..., '0', '0', '0']], dtype='<U1')"
      ]
     },
     "execution_count": 101,
     "metadata": {},
     "output_type": "execute_result"
    }
   ],
   "source": [
    "#Read gt labels\n",
    "gt_label = open(\"gtlabels.txt\",\"r\")\n",
    "Y=[]\n",
    "for line in gt_label:\n",
    "    line = line.rstrip().split()\n",
    "    line = line[1:]\n",
    "    Y.append(line)\n",
    "Y=np.array(Y)\n",
    "Y\n",
    "\n",
    "\n",
    "\n",
    "    "
   ]
  },
  {
   "cell_type": "code",
   "execution_count": 102,
   "metadata": {
    "scrolled": true
   },
   "outputs": [
    {
     "data": {
      "text/html": [
       "<div>\n",
       "<style scoped>\n",
       "    .dataframe tbody tr th:only-of-type {\n",
       "        vertical-align: middle;\n",
       "    }\n",
       "\n",
       "    .dataframe tbody tr th {\n",
       "        vertical-align: top;\n",
       "    }\n",
       "\n",
       "    .dataframe thead th {\n",
       "        text-align: right;\n",
       "    }\n",
       "</style>\n",
       "<table border=\"1\" class=\"dataframe\">\n",
       "  <thead>\n",
       "    <tr style=\"text-align: right;\">\n",
       "      <th></th>\n",
       "      <th>number</th>\n",
       "      <th>name</th>\n",
       "    </tr>\n",
       "  </thead>\n",
       "  <tbody>\n",
       "    <tr>\n",
       "      <th>1</th>\n",
       "      <td>0</td>\n",
       "      <td>Partylife</td>\n",
       "    </tr>\n",
       "    <tr>\n",
       "      <th>2</th>\n",
       "      <td>1</td>\n",
       "      <td>Family_Friends</td>\n",
       "    </tr>\n",
       "    <tr>\n",
       "      <th>3</th>\n",
       "      <td>2</td>\n",
       "      <td>Beach_Holidays</td>\n",
       "    </tr>\n",
       "    <tr>\n",
       "      <th>4</th>\n",
       "      <td>3</td>\n",
       "      <td>Building_Sights</td>\n",
       "    </tr>\n",
       "    <tr>\n",
       "      <th>5</th>\n",
       "      <td>4</td>\n",
       "      <td>Snow</td>\n",
       "    </tr>\n",
       "    <tr>\n",
       "      <th>...</th>\n",
       "      <td>...</td>\n",
       "      <td>...</td>\n",
       "    </tr>\n",
       "    <tr>\n",
       "      <th>95</th>\n",
       "      <td>94</td>\n",
       "      <td>scary</td>\n",
       "    </tr>\n",
       "    <tr>\n",
       "      <th>96</th>\n",
       "      <td>95</td>\n",
       "      <td>unpleasant</td>\n",
       "    </tr>\n",
       "    <tr>\n",
       "      <th>97</th>\n",
       "      <td>96</td>\n",
       "      <td>melancholic</td>\n",
       "    </tr>\n",
       "    <tr>\n",
       "      <th>98</th>\n",
       "      <td>97</td>\n",
       "      <td>inactive</td>\n",
       "    </tr>\n",
       "    <tr>\n",
       "      <th>99</th>\n",
       "      <td>98</td>\n",
       "      <td>calm</td>\n",
       "    </tr>\n",
       "  </tbody>\n",
       "</table>\n",
       "<p>99 rows × 2 columns</p>\n",
       "</div>"
      ],
      "text/plain": [
       "   number             name\n",
       "1       0        Partylife\n",
       "2       1   Family_Friends\n",
       "3       2   Beach_Holidays\n",
       "4       3  Building_Sights\n",
       "5       4             Snow\n",
       "..    ...              ...\n",
       "95     94            scary\n",
       "96     95       unpleasant\n",
       "97     96      melancholic\n",
       "98     97         inactive\n",
       "99     98             calm\n",
       "\n",
       "[99 rows x 2 columns]"
      ]
     },
     "execution_count": 102,
     "metadata": {},
     "output_type": "execute_result"
    }
   ],
   "source": [
    "#read label info\n",
    "import pandas as pd\n",
    "label_info = open(\"label_info.txt\", \"r\")\n",
    "label_names=[]\n",
    "for i in label_info:\n",
    "    i=i.rstrip().split()\n",
    "    label_names.append(i)\n",
    "\n",
    "\n",
    "label_df=pd.DataFrame(label_names, columns =['number','name'])\n",
    "label_df = label_df.drop(index=0)\n",
    "label_df\n",
    "    "
   ]
  },
  {
   "cell_type": "code",
   "execution_count": 103,
   "metadata": {
    "collapsed": true
   },
   "outputs": [],
   "source": [
    "#index of each class in original X data\n",
    "spring = 9\n",
    "summer = 10\n",
    "autumn = 11\n"
   ]
  },
  {
   "cell_type": "markdown",
   "metadata": {},
   "source": [
    "# Using segment of data containing the labels Spring/Summer/Autumn"
   ]
  },
  {
   "cell_type": "code",
   "execution_count": 104,
   "metadata": {
    "collapsed": true
   },
   "outputs": [],
   "source": [
    "filterY = []\n",
    "filterX = []\n",
    "\n",
    "   \n",
    "for i in range(len(Y)):\n",
    "    ls=Y[i]\n",
    "    if ls[9]=='0'and ls[10]=='0'and ls[11]=='0':\n",
    "        pass\n",
    "    else:\n",
    "        filterY.append(ls)\n",
    "        filterX.append(X[i])\n",
    "\n",
    "\n",
    "# create new Y label data for each class in one-vs-rest manner\n",
    "\n",
    "#Y data for Summer vs rest\n",
    "Ysummer=[]\n",
    "for ls in filterY:\n",
    "    if ls[summer]=='1':\n",
    "        Ysummer.append(1)\n",
    "    else:\n",
    "        Ysummer.append(0)\n",
    "Ysummer=np.array(Ysummer)\n",
    "Ysummer\n",
    "        \n",
    "#Y data for Autumn vs rest\n",
    "Yautumn=[]\n",
    "for ls in filterY:\n",
    "    if ls[autumn]=='1':\n",
    "        Yautumn.append(1)\n",
    "    else:\n",
    "        Yautumn.append(0)\n",
    "Yautumn=np.array(Yautumn)\n",
    "\n",
    "#Y data for Spring vs rest\n",
    "Yspring=[]\n",
    "for ls in filterY:\n",
    "    if ls[spring]=='1':\n",
    "        Yspring.append(1)\n",
    "    else:\n",
    "        Yspring.append(0)\n",
    "Yspring=np.array(Yspring)"
   ]
  },
  {
   "cell_type": "code",
   "execution_count": 105,
   "metadata": {},
   "outputs": [
    {
     "name": "stdout",
     "output_type": "stream",
     "text": [
      "1145\n"
     ]
    }
   ],
   "source": [
    "print(len(Yautumn))"
   ]
  },
  {
   "cell_type": "markdown",
   "metadata": {},
   "source": [
    "# Train Test Validation Split for each class"
   ]
  },
  {
   "cell_type": "code",
   "execution_count": 106,
   "metadata": {
    "collapsed": true
   },
   "outputs": [],
   "source": [
    "#TRAIN TEST VALIDTION SPLIT (For each class)\n",
    "from sklearn.model_selection import train_test_split\n",
    "def split_data(X,y):\n",
    "    X_train, X_test, y_train, y_test = train_test_split(X, y, test_size=0.2, random_state=1)\n",
    "    X_train, X_val, y_train, y_val = train_test_split(X_train, y_train, test_size=0.1875, random_state=1)\n",
    "    return X_train, X_test, X_val, y_train, y_test, y_val\n",
    "\n",
    "\n",
    "\n"
   ]
  },
  {
   "cell_type": "markdown",
   "metadata": {},
   "source": [
    "# Saved Train Val Test Splits"
   ]
  },
  {
   "cell_type": "code",
   "execution_count": 117,
   "metadata": {
    "collapsed": true
   },
   "outputs": [],
   "source": [
    "#/Users/amarjyotkaur/Downloads/Deep Learning HW 1 Amarjyot Kaur\n",
    "# For Spring Data\n",
    "xtrain_sp = split_data(filterX,Yspring)[0]\n",
    "ytrain_sp = split_data(filterX,Yspring)[3]\n",
    "xval_sp = split_data(filterX, Yspring)[2]\n",
    "xtest_sp = split_data(filterX,Yspring)[1]\n",
    "ytest_sp = split_data(filterX,Yspring)[4]\n",
    "yval_sp = split_data(filterX, Yspring)[5]\n",
    "\n",
    "# For Summer Data\n",
    "xtrain_su = split_data(filterX,Ysummer)[0]\n",
    "ytrain_su = split_data(filterX,Ysummer)[3]\n",
    "xval_su = split_data(filterX, Ysummer)[2]\n",
    "xtest_su = split_data(filterX,Ysummer)[1]\n",
    "ytest_su = split_data(filterX,Ysummer)[4]\n",
    "yval_su = split_data(filterX, Ysummer)[5]\n",
    "\n",
    "# For Autumn Data\n",
    "xtrain_au = split_data(filterX,Yautumn)[0]\n",
    "ytrain_au = split_data(filterX,Yautumn)[3]\n",
    "xval_au = split_data(filterX, Yautumn)[2]\n",
    "xtest_au = split_data(filterX,Yautumn)[1]\n",
    "ytest_au = split_data(filterX,Yautumn)[4]\n",
    "yval_au = split_data(filterX, Yautumn)[5]\n",
    "\n",
    "np.save('/Users/amarjyotkaur/Downloads/xtrain_spring',xtrain_sp)\n",
    "np.save('/Users/amarjyotkaur/Downloads/ytrain_spring',ytrain_sp)\n",
    "np.save('/Users/amarjyotkaur/Downloads/xval_spring',xval_sp)\n",
    "np.save('/Users/amarjyotkaur/Downloads/xtest_spring',xtest_sp)\n",
    "np.save('/Users/amarjyotkaur/Downloads/yval_spring',yval_sp)\n",
    "np.save('/Users/amarjyotkaur/Downloads/ytest_spring',ytest_sp)\n",
    "\n",
    "np.save('/Users/amarjyotkaur/Downloads/xtrain_summer',xtrain_su)\n",
    "np.save('/Users/amarjyotkaur/Downloads/ytrain_summer',ytrain_su)\n",
    "np.save('/Users/amarjyotkaur/Downloads/xval_summer',xval_su)\n",
    "np.save('/Users/amarjyotkaur/Downloads/xtest_summer',xtest_su)\n",
    "np.save('/Users/amarjyotkaur/Downloads/yval_summer',yval_su)\n",
    "np.save('/Users/amarjyotkaur/Downloads/ytest_summer',ytest_su)\n",
    "\n",
    "np.save('/Users/amarjyotkaur/Downloads/xtrain_autumn',xtrain_au)\n",
    "np.save('/Users/amarjyotkaur/Downloads/ytrain_autumn',ytrain_au)\n",
    "np.save('/Users/amarjyotkaur/Downloads/xval_autumn',xval_au)\n",
    "np.save('/Users/amarjyotkaur/Downloads/xtest_autumn',xtest_au)\n",
    "np.save('/Users/amarjyotkaur/Downloads/yval_autumn',yval_au)\n",
    "np.save('/Users/amarjyotkaur/Downloads/ytest_autumn',ytest_au)\n"
   ]
  },
  {
   "cell_type": "code",
   "execution_count": 107,
   "metadata": {
    "collapsed": true
   },
   "outputs": [],
   "source": [
    "import sklearn.svm as svm\n",
    "\n",
    "import sklearn.metrics"
   ]
  },
  {
   "cell_type": "code",
   "execution_count": 108,
   "metadata": {
    "collapsed": true
   },
   "outputs": [],
   "source": [
    "#SVM Linear Kernel\n",
    "def train(c,train_x,train_y):  #input to this func should be split_data(...)[0 and 3]\n",
    "    model = svm.SVC(kernel='linear', C=c)\n",
    "    model.fit(train_x,train_y)\n",
    "    return model\n",
    "    \n",
    "   \n",
    "    \n",
    "    "
   ]
  },
  {
   "cell_type": "code",
   "execution_count": 109,
   "metadata": {},
   "outputs": [
    {
     "name": "stdout",
     "output_type": "stream",
     "text": [
      "Spring vs rest accuracy: 0.8820960698689956\n",
      "Summer vs rest accuracy: 0.7248908296943232\n",
      "Autumn vs rest accuracy: 0.8078602620087336\n"
     ]
    }
   ],
   "source": [
    "#Test - on model for Spring data\n",
    "xtrain = split_data(filterX,Yspring)[0]\n",
    "ytrain = split_data(filterX,Yspring)[3]\n",
    "xtest = split_data(filterX,Yspring)[1]\n",
    "ytest = split_data(filterX,Yspring)[4]\n",
    "c = 0.01\n",
    "y_pred_spring = train(c,xtrain, ytrain).predict(xtest)\n",
    "accuracy = sklearn.metrics.accuracy_score(ytest, y_pred_spring)\n",
    "print(\"Spring vs rest accuracy:\",accuracy)\n",
    "\n",
    "\n",
    "\n",
    "#Test - on model for Summer Data\n",
    "xtrain = split_data(filterX,Ysummer)[0]\n",
    "ytrain = split_data(filterX,Ysummer)[3]\n",
    "xtest = split_data(filterX,Ysummer)[1]\n",
    "ytest = split_data(filterX,Ysummer)[4]\n",
    "c = 0.01\n",
    "y_pred_summer = train(c,xtrain, ytrain).predict(xtest)\n",
    "accuracy = sklearn.metrics.accuracy_score(ytest, y_pred_summer)\n",
    "print(\"Summer vs rest accuracy:\",accuracy)\n",
    "\n",
    "\n",
    "\n",
    "#Test - on model for Autumn data\n",
    "xtrain = split_data(filterX,Yautumn)[0]\n",
    "ytrain = split_data(filterX,Yautumn)[3]\n",
    "xtest = split_data(filterX,Yautumn)[1]\n",
    "ytest = split_data(filterX,Yautumn)[4]\n",
    "c = 0.01\n",
    "y_pred_autumn = train(c,xtrain, ytrain).predict(xtest)\n",
    "accuracy = sklearn.metrics.accuracy_score(ytest, y_pred_autumn)\n",
    "print(\"Autumn vs rest accuracy:\",accuracy)\n",
    "\n",
    "    \n",
    "\n"
   ]
  },
  {
   "cell_type": "markdown",
   "metadata": {},
   "source": [
    "# Comparing Linear Kernel with other kernels\n",
    "(Polynomial and RBF)"
   ]
  },
  {
   "cell_type": "code",
   "execution_count": 110,
   "metadata": {},
   "outputs": [
    {
     "name": "stdout",
     "output_type": "stream",
     "text": [
      "Linear Model accuracy: 0.8820960698689956\n",
      "Polynomial Model accuracy: 0.8995633187772926\n",
      "RBF Model accuracy: 0.8995633187772926\n"
     ]
    }
   ],
   "source": [
    "# Test model with Polynomial Kernel and RBF Kernel, test on SPRING DATA\n",
    "xtrain = split_data(filterX,Yspring)[0]\n",
    "ytrain = split_data(filterX,Yspring)[3]\n",
    "xtest = split_data(filterX,Yspring)[1]\n",
    "ytest = split_data(filterX,Yspring)[4]\n",
    "c = 0.01\n",
    "linear = train(c,xtrain, ytrain).predict(xtest)\n",
    "linear_accuracy = sklearn.metrics.accuracy_score(ytest, linear)\n",
    "print(\"Linear Model accuracy:\",linear_accuracy)\n",
    "\n",
    "polynomial = svm.SVC(kernel='poly',C=c).fit(xtrain,ytrain).predict(xtest)\n",
    "poly_accuracy = sklearn.metrics.accuracy_score(ytest, polynomial)\n",
    "print(\"Polynomial Model accuracy:\", poly_accuracy)\n",
    "\n",
    "rbf = svm.SVC(kernel='rbf',C=c).fit(xtrain,ytrain).predict(xtest)\n",
    "rbf_accuracy = sklearn.metrics.accuracy_score(ytest,rbf)\n",
    "print(\"RBF Model accuracy:\", rbf_accuracy)\n",
    "\n",
    "\n"
   ]
  },
  {
   "cell_type": "markdown",
   "metadata": {},
   "source": [
    "\n",
    "We observe that the accuracy score using the Polynomial kernel and RBF kernel are equal and higher than the score using the linear Kernel. The polynomial and RBF kernel perform better on the data, indicating that the distribution of our data is non-linear so polynomial and RBF would perform better by taking the data into a higher dimensional space."
   ]
  },
  {
   "cell_type": "markdown",
   "metadata": {},
   "source": [
    "# Finding the best C value"
   ]
  },
  {
   "cell_type": "code",
   "execution_count": 111,
   "metadata": {},
   "outputs": [
    {
     "name": "stdout",
     "output_type": "stream",
     "text": [
      "[0.8081395348837209, 0.7461240310077519, 0.7461240310077519, 0.7461240310077519, 0.7461240310077519, 0.7461240310077519, 0.7461240310077519]\n",
      "best C = 0.01\n"
     ]
    }
   ],
   "source": [
    "\n",
    "def get_avg_accuracy(c):\n",
    "    #model for Spring data\n",
    "    xtrain = split_data(filterX,Yspring)[0]\n",
    "    ytrain = split_data(filterX,Yspring)[3]\n",
    "    xval = split_data(filterX,Yspring)[2]\n",
    "    yval = split_data(filterX,Yspring)[5]\n",
    "    y_pred_spring = train(c,xtrain, ytrain).predict(xval)\n",
    "    accuracy_spring = sklearn.metrics.accuracy_score(yval, y_pred_spring)\n",
    "    \n",
    "    #model for Summer data\n",
    "    xtrain = split_data(filterX,Ysummer)[0]\n",
    "    ytrain = split_data(filterX,Ysummer)[3]\n",
    "    xval = split_data(filterX,Ysummer)[2]\n",
    "    yval = split_data(filterX,Ysummer)[5]\n",
    "    y_pred_summer = train(c,xtrain, ytrain).predict(xval)\n",
    "    accuracy_summer = sklearn.metrics.accuracy_score(yval, y_pred_summer)\n",
    "    \n",
    "    #model for Spring data\n",
    "    xtrain = split_data(filterX,Yautumn)[0]\n",
    "    ytrain = split_data(filterX,Yautumn)[3]\n",
    "    xval = split_data(filterX,Yautumn)[2]\n",
    "    yval = split_data(filterX,Yautumn)[5]\n",
    "    y_pred_autumn = train(c,xtrain, ytrain).predict(xval)\n",
    "    accuracy_autumn = sklearn.metrics.accuracy_score(yval, y_pred_autumn)\n",
    "    \n",
    "    return (accuracy_spring+accuracy_summer+accuracy_autumn)/3\n",
    "\n",
    "    \n",
    "    \n",
    "\n",
    "list_c= [0.01,0.1,0.1**0.5,1,10**0.5,10,100]\n",
    "\n",
    "acc_ls=[]\n",
    "for x in list_c:\n",
    "    acc_ls.append(get_avg_accuracy(x))\n",
    "print(acc_ls)\n",
    "best_c = list_c[np.argmax(acc_ls)]\n",
    "print( \"best C =\", best_c)\n",
    "    \n",
    "   \n",
    "    \n",
    "    \n"
   ]
  },
  {
   "cell_type": "markdown",
   "metadata": {
    "collapsed": true
   },
   "source": [
    "# Now that we have best c = 0.01, we train classifier on train+validation\n"
   ]
  },
  {
   "cell_type": "code",
   "execution_count": 112,
   "metadata": {},
   "outputs": [
    {
     "name": "stdout",
     "output_type": "stream",
     "text": [
      "Spring acc 0.8864628820960698\n",
      "Summer acc 0.6986899563318777\n",
      "Summer acc 0.8078602620087336\n",
      "Class wise averaged accuracy: \n",
      " 0.7976710334788937\n"
     ]
    }
   ],
   "source": [
    "\n",
    "# For Spring Data\n",
    "xtrain_sp = split_data(filterX,Yspring)[0]\n",
    "ytrain_sp = split_data(filterX,Yspring)[3]\n",
    "xval_sp = split_data(filterX, Yspring)[2]\n",
    "xtest_sp = split_data(filterX,Yspring)[1]\n",
    "ytest_sp = split_data(filterX,Yspring)[4]\n",
    "yval_sp = split_data(filterX, Yspring)[5]\n",
    "\n",
    "xtrainval_spring = xtrain_sp+xval_sp\n",
    "ytrainval_spring = list(ytrain_sp)+list(yval_sp)\n",
    "\n",
    "c = 0.01\n",
    "y_pred_spring = train(c,xtrainval_spring, ytrainval_spring).predict(xtest_sp)\n",
    "accuracy_sp = sklearn.metrics.accuracy_score(ytest_sp, y_pred_spring)\n",
    "print(\"Spring acc\",accuracy_sp)\n",
    "\n",
    "\n",
    "\n",
    "# For Summer Data\n",
    "xtrain_su = split_data(filterX,Ysummer)[0]\n",
    "ytrain_su = split_data(filterX,Ysummer)[3]\n",
    "xval_su = split_data(filterX, Ysummer)[2]\n",
    "xtest_su = split_data(filterX,Ysummer)[1]\n",
    "ytest_su = split_data(filterX,Ysummer)[4]\n",
    "yval_su = split_data(filterX, Ysummer)[5]\n",
    "\n",
    "xtrainval_summer = xtrain_su+xval_su\n",
    "ytrainval_summer = list(ytrain_su)+list(yval_su)\n",
    "\n",
    "c = 0.01\n",
    "y_pred_summer= train(c,xtrainval_summer, ytrainval_summer).predict(xtest_su)\n",
    "accuracy_su = sklearn.metrics.accuracy_score(ytest_su, y_pred_summer)\n",
    "print(\"Summer acc\",accuracy_su)\n",
    "\n",
    "\n",
    "\n",
    "# For Autumn Data\n",
    "xtrain_au = split_data(filterX,Yautumn)[0]\n",
    "ytrain_au = split_data(filterX,Yautumn)[3]\n",
    "xval_au = split_data(filterX, Yautumn)[2]\n",
    "xtest_au = split_data(filterX,Yautumn)[1]\n",
    "ytest_au = split_data(filterX,Yautumn)[4]\n",
    "yval_au = split_data(filterX, Yautumn)[5]\n",
    "\n",
    "xtrainval_autumn = xtrain_au+xval_au\n",
    "ytrainval_autumn = list(ytrain_au)+list(yval_au)\n",
    "\n",
    "c = 0.01\n",
    "y_pred_autumn = train(c,xtrainval_autumn, ytrainval_autumn).predict(xtest_au)\n",
    "accuracy_au = sklearn.metrics.accuracy_score(ytest_au, y_pred_autumn)\n",
    "print(\"Summer acc\",accuracy_au)\n",
    "\n",
    "\n",
    "#Class wise averaged accuracy:\n",
    "avg_acc = (accuracy_sp+accuracy_su+accuracy_au)/3\n",
    "print(\"Class wise averaged accuracy:\",'\\n', avg_acc)\n",
    "\n",
    "\n",
    "\n",
    "\n"
   ]
  },
  {
   "cell_type": "markdown",
   "metadata": {
    "collapsed": true
   },
   "source": [
    "# Report of accuracy measures on the validation and test set"
   ]
  },
  {
   "cell_type": "code",
   "execution_count": 113,
   "metadata": {},
   "outputs": [
    {
     "name": "stdout",
     "output_type": "stream",
     "text": [
      "Spring test vanilla acc 0.8820960698689956\n",
      "Spring val vanilla acc 0.8662790697674418 \n",
      "\n",
      "Summer test vanilla acc 0.7248908296943232\n",
      "Summer val vanilla acc 0.7325581395348837 \n",
      "\n",
      "Autumn test vanilla acc 0.8078602620087336\n",
      "Autumn val vanilla acc 0.8255813953488372 \n",
      "\n",
      "classwise avg accuracy on validation set 0.8081395348837209\n",
      "classwise avg accuracy on test set 0.8049490538573508\n"
     ]
    }
   ],
   "source": [
    "# For Spring Data\n",
    "xtrain_sp = split_data(filterX,Yspring)[0]\n",
    "ytrain_sp = split_data(filterX,Yspring)[3]\n",
    "xval_sp = split_data(filterX, Yspring)[2]\n",
    "xtest_sp = split_data(filterX,Yspring)[1]\n",
    "ytest_sp = split_data(filterX,Yspring)[4]\n",
    "yval_sp = split_data(filterX, Yspring)[5]\n",
    "\n",
    "\n",
    "c = 0.01\n",
    "y_pred_spring_test = train(c,xtrain_sp, ytrain_sp).predict(xtest_sp)\n",
    "accuracy_test_sp = sklearn.metrics.accuracy_score(ytest_sp, y_pred_spring_test)\n",
    "print(\"Spring test vanilla acc\",accuracy_test_sp)\n",
    "\n",
    "y_pred_spring_val = train(c,xtrain_sp, ytrain_sp).predict(xval_sp)\n",
    "accuracy_val_sp = sklearn.metrics.accuracy_score(yval_sp, y_pred_spring_val)\n",
    "print(\"Spring val vanilla acc\",accuracy_val_sp,'\\n')\n",
    "\n",
    "\n",
    "\n",
    "\n",
    "# For Summer Data\n",
    "xtrain_su = split_data(filterX,Ysummer)[0]\n",
    "ytrain_su = split_data(filterX,Ysummer)[3]\n",
    "xval_su = split_data(filterX, Ysummer)[2]\n",
    "xtest_su = split_data(filterX,Ysummer)[1]\n",
    "ytest_su = split_data(filterX,Ysummer)[4]\n",
    "yval_su = split_data(filterX, Ysummer)[5]\n",
    "\n",
    "y_pred_summer_test = train(c,xtrain_su, ytrain_su).predict(xtest_su)\n",
    "accuracy_test_su = sklearn.metrics.accuracy_score(ytest_su, y_pred_summer_test)\n",
    "print(\"Summer test vanilla acc\",accuracy_test_su)\n",
    "\n",
    "y_pred_summer_val = train(c,xtrain_su, ytrain_su).predict(xval_su)\n",
    "accuracy_val_su = sklearn.metrics.accuracy_score(yval_su, y_pred_summer_val)\n",
    "print(\"Summer val vanilla acc\",accuracy_val_su,\"\\n\")\n",
    "\n",
    "\n",
    "\n",
    "# For Autumn Data\n",
    "xtrain_au = split_data(filterX,Yautumn)[0]\n",
    "ytrain_au = split_data(filterX,Yautumn)[3]\n",
    "xval_au = split_data(filterX, Yautumn)[2]\n",
    "xtest_au = split_data(filterX,Yautumn)[1]\n",
    "ytest_au = split_data(filterX,Yautumn)[4]\n",
    "yval_au = split_data(filterX, Yautumn)[5]\n",
    "\n",
    "y_pred_autumn_test = train(c,xtrain_au, ytrain_au).predict(xtest_au)\n",
    "accuracy_test_au = sklearn.metrics.accuracy_score(ytest_au, y_pred_autumn_test)\n",
    "print(\"Autumn test vanilla acc\",accuracy_test_au)\n",
    "\n",
    "y_pred_autumn_val = train(c,xtrain_au, ytrain_au).predict(xval_au)\n",
    "accuracy_val_au = sklearn.metrics.accuracy_score(yval_au, y_pred_autumn_val)\n",
    "print(\"Autumn val vanilla acc\",accuracy_val_au,'\\n')\n",
    "\n",
    "\n",
    "\n",
    "#Class Wise Averaged Accuracy on validation set \n",
    "classwise_acc_val = get_avg_accuracy(c) \n",
    "print(\"classwise avg accuracy on validation set\", classwise_acc_val)\n",
    "#Class Wise Averaged Accuracy on test set \n",
    "classwise_acc_test = (accuracy_test_sp+accuracy_test_su+accuracy_test_au)/3\n",
    "print(\"classwise avg accuracy on test set\", classwise_acc_test)\n",
    "    \n"
   ]
  },
  {
   "cell_type": "markdown",
   "metadata": {},
   "source": [
    "Purpose of using Vanilla accuracy is to assess the performance of the model on each class of one-vs-rest data, based on the distribution of each individual class of one-vs-rest data.\n",
    "Purpose of using the classwise averaged accuracy is to test the overall performance of the model as a whole in being able to classify the test data into the 3 classes - spring, summer, autumn, through multi-class classification, by taking the average of the accuracy scores for each class prediction accuracy.\n"
   ]
  },
  {
   "cell_type": "code",
   "execution_count": null,
   "metadata": {
    "collapsed": true
   },
   "outputs": [],
   "source": []
  }
 ],
 "metadata": {
  "kernelspec": {
   "display_name": "Python 3",
   "language": "python",
   "name": "python3"
  },
  "language_info": {
   "codemirror_mode": {
    "name": "ipython",
    "version": 3
   },
   "file_extension": ".py",
   "mimetype": "text/x-python",
   "name": "python",
   "nbconvert_exporter": "python",
   "pygments_lexer": "ipython3",
   "version": "3.8.8"
  }
 },
 "nbformat": 4,
 "nbformat_minor": 2
}
